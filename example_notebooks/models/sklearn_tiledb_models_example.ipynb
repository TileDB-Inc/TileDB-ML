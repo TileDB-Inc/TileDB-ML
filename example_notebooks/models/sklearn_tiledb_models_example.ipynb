{
 "cells": [
  {
   "cell_type": "markdown",
   "metadata": {
    "collapsed": true,
    "pycharm": {
     "name": "#%% md\n"
    }
   },
   "source": [
    "This example notebook shows how we can train an [image/digit classification](https://scikit-learn.org/stable/auto_examples/linear_model/plot_sparse_logistic_regression_mnist.html)\n",
    "model based on MNIST dataset, and store it as TileDB array. Firstly, let's import what we need."
   ]
  },
  {
   "cell_type": "code",
   "execution_count": 6,
   "metadata": {
    "pycharm": {
     "name": "#%%\n"
    }
   },
   "outputs": [],
   "source": [
    "import matplotlib.pyplot as plt\n",
    "import numpy as np\n",
    "import tiledb\n",
    "import json\n",
    "import os\n",
    "import glob\n",
    "\n",
    "from sklearn.datasets import fetch_openml\n",
    "from sklearn.linear_model import LogisticRegression\n",
    "from sklearn.model_selection import train_test_split\n",
    "from sklearn.preprocessing import StandardScaler\n",
    "from sklearn.utils import check_random_state\n",
    "from sklearn import tree\n",
    "\n",
    "from pprint import pprint\n",
    "\n",
    "from tiledb.ml.models.sklearn import SklearnTileDB"
   ]
  },
  {
   "cell_type": "markdown",
   "metadata": {
    "pycharm": {
     "name": "#%% md\n"
    }
   },
   "source": [
    "Then load our data, split in train and test and perform basic scaling by employing a standard scaler."
   ]
  },
  {
   "cell_type": "code",
   "execution_count": 2,
   "metadata": {
    "pycharm": {
     "name": "#%%\n"
    }
   },
   "outputs": [
    {
     "name": "stdout",
     "output_type": "stream",
     "text": [
      "Data fetching...\n",
      "Data scaling...\n"
     ]
    }
   ],
   "source": [
    "train_samples = 5000\n",
    "\n",
    "# Load data from https://www.openml.org/d/554\n",
    "print('Data fetching...')\n",
    "X, y = fetch_openml('mnist_784', version=1, return_X_y=True, as_frame=False)\n",
    "\n",
    "random_state = check_random_state(0)\n",
    "permutation = random_state.permutation(X.shape[0])\n",
    "X = X[permutation]\n",
    "y = y[permutation]\n",
    "X = X.reshape((X.shape[0], -1))\n",
    "\n",
    "X_train, X_test, y_train, y_test = train_test_split(\n",
    "    X, y, train_size=train_samples, test_size=10000)\n",
    "\n",
    "print('Data scaling...')\n",
    "scaler = StandardScaler()\n",
    "X_train = scaler.fit_transform(X_train)\n",
    "X_test = scaler.transform(X_test)"
   ]
  },
  {
   "cell_type": "markdown",
   "metadata": {
    "pycharm": {
     "name": "#%% md\n"
    }
   },
   "source": [
    "We move on by declaring a simple Logistic Regression classifier, train it and print the accuracy score."
   ]
  },
  {
   "cell_type": "code",
   "execution_count": 3,
   "metadata": {
    "pycharm": {
     "name": "#%%\n"
    }
   },
   "outputs": [
    {
     "name": "stdout",
     "output_type": "stream",
     "text": [
      "Model fit...\n",
      "Model score...\n",
      "Sparsity with L1 penalty: 78.12%\n",
      "Test score with L1 penalty: 0.8309\n"
     ]
    }
   ],
   "source": [
    "clf = LogisticRegression(\n",
    "    C=50. / train_samples, penalty='l1', solver='saga', tol=0.1\n",
    ")\n",
    "\n",
    "print('Model fit...')\n",
    "clf.fit(X_train, y_train)\n",
    "\n",
    "print('Model score...')\n",
    "sparsity = np.mean(clf.coef_ == 0) * 100\n",
    "score = clf.score(X_test, y_test)\n",
    "\n",
    "print(\"Sparsity with L1 penalty: %.2f%%\" % sparsity)\n",
    "print(\"Test score with L1 penalty: %.4f\" % score)"
   ]
  },
  {
   "cell_type": "markdown",
   "metadata": {
    "pycharm": {
     "name": "#%% md\n"
    }
   },
   "source": [
    "We can now save the trained model as a TileDB array. For information about the structure of a dense\n",
    "TileDB array in terms of files on disk please take a look [here](https://docs.tiledb.com/main/basic-concepts/data-format).\n",
    "At the moment (will change in the future) we use pickle, which is one of the [most common scenarios for sklearn models](https://scikit-learn.org/stable/modules/model_persistence.html),\n",
    "to serialize the whole model and save it as a [variable sized attribute](https://docs.tiledb.com/main/solutions/tiledb-embedded/api-usage/writing-arrays/var-length-attributes)\n",
    "in a TileDB array.  We first declare a SklearnTileDB object (with the corresponding uri) and then save the model as a TileDB array.\n",
    "Finally, we can save any kind of metadata (in any structure, i.e., list, tuple or dictionary) by passing a dictionary to the meta attribute."
   ]
  },
  {
   "cell_type": "code",
   "execution_count": 4,
   "metadata": {
    "pycharm": {
     "name": "#%%\n"
    }
   },
   "outputs": [],
   "source": [
    "tiledb_model_1 = SklearnTileDB(uri='tiledb-sklearn-mnist-1')\n",
    "\n",
    "tiledb_model_1.save(model=clf,\n",
    "                    meta={'Sparsity_with_L1_penalty': sparsity,\n",
    "                          'score': score})"
   ]
  },
  {
   "cell_type": "markdown",
   "metadata": {},
   "source": [
    "The above step will create a TileDB array in your working directory. Let's open our TileDB array model and check metadata. Metadata that are of type list, dict or tuple have been JSON\n",
    "serialized while saving, i.e., we need json.loads to deserialize them."
   ]
  },
  {
   "cell_type": "code",
   "execution_count": 9,
   "metadata": {
    "pycharm": {
     "name": "#%%\n"
    }
   },
   "outputs": [
    {
     "name": "stdout",
     "output_type": "stream",
     "text": [
      "['tiledb-sklearn-mnist-1/__meta',\n",
      " 'tiledb-sklearn-mnist-1/__lock.tdb',\n",
      " 'tiledb-sklearn-mnist-1/__array_schema.tdb',\n",
      " 'tiledb-sklearn-mnist-1/__1617026518252_1617026518252_90be26b060bd4818acd22bd13526beee_8',\n",
      " 'tiledb-sklearn-mnist-1/__1617026518252_1617026518252_90be26b060bd4818acd22bd13526beee_8.ok']\n",
      "\n",
      "\n",
      "Key: Sparsity_with_L1_penalty, Value: 78.125\n",
      "Key: python_version, Value: 3.7.3\n",
      "Key: score, Value: 0.8309\n",
      "Key: sklearn_version, Value: 0.24.1\n"
     ]
    }
   ],
   "source": [
    "# Check array directory\n",
    "pprint(glob.glob('tiledb-sklearn-mnist-1/*'))\n",
    "\n",
    "# Open in write mode in order to add metadata\n",
    "print()\n",
    "model_array_1 = tiledb.open('tiledb-sklearn-mnist-1')\n",
    "for key, value in model_array_1.meta.items():\n",
    "    if isinstance(value, bytes):\n",
    "        value = json.loads(value)\n",
    "    print(\"Key: {}, Value: {}\".format(key, value))"
   ]
  },
  {
   "cell_type": "markdown",
   "metadata": {},
   "source": [
    "As we can see, in array's metadata we have by default information about the backend we used for training (sklearn),\n",
    "sklearn version, python version and the extra metadata about epochs and training loss that we added.\n",
    "We can load and check any of the aforementioned without having to load the entire model in memory.\n",
    "Moreover, we can add any kind of extra information in model's metadata also by opening the TileDB array and adding new keys."
   ]
  },
  {
   "cell_type": "code",
   "execution_count": 10,
   "metadata": {
    "pycharm": {
     "name": "#%%\n"
    }
   },
   "outputs": [
    {
     "name": "stdout",
     "output_type": "stream",
     "text": [
      "Key: Sparsity_with_L1_penalty, Value: 78.125\n",
      "Key: new_meta, Value: [\"Any kind of info\"]\n",
      "Key: python_version, Value: 3.7.3\n",
      "Key: score, Value: 0.8309\n",
      "Key: sklearn_version, Value: 0.24.1\n"
     ]
    }
   ],
   "source": [
    "# Open the array in write mode\n",
    "with tiledb.Array('tiledb-sklearn-mnist-1', \"w\") as A:\n",
    "    # Keep all history\n",
    "    A.meta['new_meta'] = json.dumps(['Any kind of info'])\n",
    "\n",
    "# Check that everything is there\n",
    "model_array_1 = tiledb.open('tiledb-sklearn-mnist-1')\n",
    "for key, value in model_array_1.meta.items():\n",
    "    if isinstance(value, bytes):\n",
    "        value = json.loads(value)\n",
    "    print(\"Key: {}, Value: {}\".format(key, value))"
   ]
  },
  {
   "cell_type": "markdown",
   "metadata": {},
   "source": [
    "Moving on, we can load the trained models for evaluation or retraining, as usual with Sklearn models.\n",
    "What is really nice with saving models as TileDB array, is native versioning based on fragments as described\n",
    "[here](https://docs.tiledb.com/main/basic-concepts/data-format#immutable-fragments). We can load a model, retrain it\n",
    "with new data and update the already existing TileDB model array with new model parameters and metadata. All information, old\n",
    "and new will be there and accessible. This is extremely useful when you retrain with new data or trying different architectures\n",
    "for the same problem, and you want to keep track of all your experiments without having to store different model instances. In our case,\n",
    "let's continue training tiledb-sklearn-mnist-1 with test data (just for simplicity). After training is done, we can save the model\n",
    "again with update=True. You will notice the extra directories and files (fragments) added to tiledb-sklearn-mnist-1 TileDB array directory,\n",
    "which keep all versions of the model."
   ]
  },
  {
   "cell_type": "code",
   "execution_count": 13,
   "metadata": {
    "pycharm": {
     "name": "#%%\n"
    }
   },
   "outputs": [
    {
     "name": "stdout",
     "output_type": "stream",
     "text": [
      "Model score...\n",
      "Sparsity with L1 penalty: 45.03%\n",
      "Test score with L1 penalty: 0.7293\n",
      "Model fit...\n",
      "Model score...\n",
      "Sparsity with L1 penalty: 44.76%\n",
      "Test score with L1 penalty: 0.7305\n",
      "\n",
      "['tiledb-sklearn-mnist-1/__1617026714948_1617026714948_5d812d9258304da89d625c3b1a0d37f3_8',\n",
      " 'tiledb-sklearn-mnist-1/__1617026714948_1617026714948_5d812d9258304da89d625c3b1a0d37f3_8.ok',\n",
      " 'tiledb-sklearn-mnist-1/__meta',\n",
      " 'tiledb-sklearn-mnist-1/__lock.tdb',\n",
      " 'tiledb-sklearn-mnist-1/__array_schema.tdb',\n",
      " 'tiledb-sklearn-mnist-1/__1617026796481_1617026796481_28a4ea23102d40099ceb1772626513a4_8.ok',\n",
      " 'tiledb-sklearn-mnist-1/__1617026796481_1617026796481_28a4ea23102d40099ceb1772626513a4_8',\n",
      " 'tiledb-sklearn-mnist-1/__1617026632600_1617026632600_43ccd847df854db3bb5998750aef7143_8',\n",
      " 'tiledb-sklearn-mnist-1/__1617026518252_1617026518252_90be26b060bd4818acd22bd13526beee_8',\n",
      " 'tiledb-sklearn-mnist-1/__1617026632600_1617026632600_43ccd847df854db3bb5998750aef7143_8.ok',\n",
      " 'tiledb-sklearn-mnist-1/__1617026518252_1617026518252_90be26b060bd4818acd22bd13526beee_8.ok']\n",
      "\n",
      "====== FRAGMENTS  INFO ======\n",
      "array uri: tiledb-sklearn-mnist-1\n",
      "number of fragments: 4\n",
      "\n",
      "===== FRAGMENT NUMBER 0 =====\n",
      "fragment uri: file:///Users/george/PycharmProjects/TileDB-ML/example_notebooks/models/tiledb-sklearn-mnist-1/__1617026518252_1617026518252_90be26b060bd4818acd22bd13526beee_8\n",
      "is dense: True\n",
      "is sparse: False\n",
      "cell num: 1\n",
      "has consolidated metadata: False\n",
      "non empty domain: ((1, 1),)\n",
      "timestamp range: (1617026518252, 1617026518252)\n",
      "number of fragments to vacuum: 0\n",
      "uri of fragments to vacuum: []\n",
      "number of unconsolidated metadata: 4\n",
      "version: 8\n",
      "\n",
      "===== FRAGMENT NUMBER 1 =====\n",
      "fragment uri: file:///Users/george/PycharmProjects/TileDB-ML/example_notebooks/models/tiledb-sklearn-mnist-1/__1617026632600_1617026632600_43ccd847df854db3bb5998750aef7143_8\n",
      "is dense: True\n",
      "is sparse: False\n",
      "cell num: 1\n",
      "has consolidated metadata: False\n",
      "non empty domain: ((1, 1),)\n",
      "timestamp range: (1617026632600, 1617026632600)\n",
      "number of fragments to vacuum: 0\n",
      "uri of fragments to vacuum: []\n",
      "number of unconsolidated metadata: 4\n",
      "version: 8\n",
      "\n",
      "===== FRAGMENT NUMBER 2 =====\n",
      "fragment uri: file:///Users/george/PycharmProjects/TileDB-ML/example_notebooks/models/tiledb-sklearn-mnist-1/__1617026714948_1617026714948_5d812d9258304da89d625c3b1a0d37f3_8\n",
      "is dense: True\n",
      "is sparse: False\n",
      "cell num: 1\n",
      "has consolidated metadata: False\n",
      "non empty domain: ((1, 1),)\n",
      "timestamp range: (1617026714948, 1617026714948)\n",
      "number of fragments to vacuum: 0\n",
      "uri of fragments to vacuum: []\n",
      "number of unconsolidated metadata: 4\n",
      "version: 8\n",
      "\n",
      "===== FRAGMENT NUMBER 3 =====\n",
      "fragment uri: file:///Users/george/PycharmProjects/TileDB-ML/example_notebooks/models/tiledb-sklearn-mnist-1/__1617026796481_1617026796481_28a4ea23102d40099ceb1772626513a4_8\n",
      "is dense: True\n",
      "is sparse: False\n",
      "cell num: 1\n",
      "has consolidated metadata: False\n",
      "non empty domain: ((1, 1),)\n",
      "timestamp range: (1617026796481, 1617026796481)\n",
      "number of fragments to vacuum: 0\n",
      "uri of fragments to vacuum: []\n",
      "number of unconsolidated metadata: 4\n",
      "version: 8\n"
     ]
    }
   ],
   "source": [
    "loaded_clf = tiledb_model_1.load()\n",
    "\n",
    "# Sparsity and score should be the same as in the previous step.\n",
    "print('Model score...')\n",
    "sparsity = np.mean(loaded_clf.coef_ == 0) * 100\n",
    "score = loaded_clf.score(X_test, y_test)\n",
    "\n",
    "print(\"Sparsity with L1 penalty: %.2f%%\" % sparsity)\n",
    "print(\"Test score with L1 penalty: %.4f\" % score)\n",
    "\n",
    "\n",
    "# We retrain with test data just for the sake of simplicity.\n",
    "print('Model fit...')\n",
    "loaded_clf.fit(X_test, y_test)\n",
    "\n",
    "print('Model score...')\n",
    "sparsity = np.mean(loaded_clf.coef_ == 0) * 100\n",
    "score = loaded_clf.score(X_test, y_test)\n",
    "\n",
    "print(\"Sparsity with L1 penalty: %.2f%%\" % sparsity)\n",
    "print(\"Test score with L1 penalty: %.4f\" % score)\n",
    "\n",
    "tiledb_model_1.save(model=loaded_clf,\n",
    "                    update=True,\n",
    "                    meta={'Sparsity_with_L1_penalty': sparsity,\n",
    "                          'score': score})\n",
    "\n",
    "# Check array directory\n",
    "print()\n",
    "pprint(glob.glob('tiledb-sklearn-mnist-1/*'))\n",
    "\n",
    "\n",
    "# tiledb.array_fragments() requires TileDB-Py version > 0.8.5\n",
    "fragments_info = tiledb.array_fragments('tiledb-sklearn-mnist-1')\n",
    "\n",
    "print()\n",
    "print(\"====== FRAGMENTS  INFO ======\")\n",
    "print(\"array uri: {}\".format(fragments_info.array_uri))\n",
    "print(\"number of fragments: {}\".format(len(fragments_info)))\n",
    "\n",
    "for fragment_num, fragment in enumerate(fragments_info, start=1):\n",
    "    print()\n",
    "    print(\"===== FRAGMENT NUMBER {} =====\".format(fragment.num))\n",
    "    print(\"fragment uri: {}\".format(fragment.uri))\n",
    "    print(\"is dense: {}\".format(fragment.dense))\n",
    "    print(\"is sparse: {}\".format(fragment.sparse))\n",
    "    print(\"cell num: {}\".format(fragment.cell_num))\n",
    "    print(\"has consolidated metadata: {}\".format(fragment.has_consolidated_metadata))\n",
    "    print(\"non empty domain: {}\".format(fragment.non_empty_domain))\n",
    "    print(\"timestamp range: {}\".format(fragment.timestamp_range))\n",
    "    print(\"number of fragments to vacuum: {}\".format(fragment.to_vacuum_num))\n",
    "    print(\"uri of fragments to vacuum: {}\".format(fragment.to_vacuum_uri))\n",
    "    print(\n",
    "        \"number of unconsolidated metadata: {}\".format(\n",
    "            fragment.unconsolidated_metadata_num\n",
    "        )\n",
    "    )\n",
    "    print(\"version: {}\".format(fragment.version))\n"
   ]
  },
  {
   "cell_type": "markdown",
   "metadata": {},
   "source": [
    "Finally, a very interesting and useful, for machine learning models, TileDB feature that is described\n",
    "[here](https://docs.tiledb.com/main/basic-concepts/data-format#groups) and [here](https://docs.tiledb.com/main/solutions/tiledb-embedded/api-usage/object-management#creating-tiledb-groups)\n",
    "are groups. Assuming we want to solve the MNIST problem, and we want to try several architectures. We can save each architecture\n",
    "as a separate TileDB array with native versioning each time it is re-trained, and then organise all models that solve the same problem (MNIST)\n",
    "as a TileDB array group with any kind of hierarchy. Let's firstly define a new model architecture, then train a model and save\n",
    "it as a new TileDB array."
   ]
  },
  {
   "cell_type": "code",
   "execution_count": 14,
   "metadata": {
    "pycharm": {
     "name": "#%%\n"
    }
   },
   "outputs": [
    {
     "name": "stdout",
     "output_type": "stream",
     "text": [
      "Fit...\n",
      "Test score: 0.7729\n"
     ]
    }
   ],
   "source": [
    "# We declare a Decision Tree classifier\n",
    "clf = tree.DecisionTreeClassifier()\n",
    "\n",
    "# Fit the model\n",
    "print('Fit...')\n",
    "clf.fit(X_train, y_train)\n",
    "\n",
    "# Evaluate\n",
    "score = clf.score(X_test, y_test)\n",
    "print(\"Test score: %.4f\" % score)\n",
    "\n",
    "# Declare a SklearnTileDB object\n",
    "tiledb_model_2 = SklearnTileDB(uri='tiledb-sklearn-mnist-2')\n",
    "\n",
    "# Save model as a TileDB array\n",
    "tiledb_model_2.save(model=clf,\n",
    "                    meta={'score': score})"
   ]
  },
  {
   "cell_type": "markdown",
   "metadata": {},
   "source": [
    "Now we can create a TileDB group and organise (in hierarchies, e.g., sophisticated vs less sophisticated) all our\n",
    "MNIST models as follows."
   ]
  },
  {
   "cell_type": "code",
   "execution_count": 15,
   "metadata": {
    "pycharm": {
     "name": "#%%\n"
    }
   },
   "outputs": [
    {
     "data": {
      "text/plain": [
       "0"
      ]
     },
     "execution_count": 15,
     "metadata": {},
     "output_type": "execute_result"
    }
   ],
   "source": [
    "tiledb.group_create('MNIST_Group')\n",
    "os.system('mv tiledb-sklearn-mnist-1 MNIST_Group/')\n",
    "os.system('mv tiledb-sklearn-mnist-2 MNIST_Group/')"
   ]
  },
  {
   "cell_type": "markdown",
   "metadata": {},
   "source": [
    "Any time we can check and query all the available models, including their metadata, for a specific problem like MNIST."
   ]
  },
  {
   "cell_type": "code",
   "execution_count": 16,
   "metadata": {
    "pycharm": {
     "name": "#%%\n"
    }
   },
   "outputs": [
    {
     "name": "stdout",
     "output_type": "stream",
     "text": [
      "file:///Users/george/PycharmProjects/TileDB-ML/example_notebooks/models/MNIST_Group/tiledb-sklearn-mnist-1 array\n",
      "file:///Users/george/PycharmProjects/TileDB-ML/example_notebooks/models/MNIST_Group/tiledb-sklearn-mnist-2 array\n"
     ]
    }
   ],
   "source": [
    "tiledb.ls('MNIST_Group', lambda obj_path, obj_type: print(obj_path, obj_type))"
   ]
  }
 ],
 "metadata": {
  "kernelspec": {
   "display_name": "Python 3",
   "language": "python",
   "name": "python3"
  },
  "language_info": {
   "codemirror_mode": {
    "name": "ipython",
    "version": 3
   },
   "file_extension": ".py",
   "mimetype": "text/x-python",
   "name": "python",
   "nbconvert_exporter": "python",
   "pygments_lexer": "ipython3",
   "version": "3.7.3"
  }
 },
 "nbformat": 4,
 "nbformat_minor": 1
}