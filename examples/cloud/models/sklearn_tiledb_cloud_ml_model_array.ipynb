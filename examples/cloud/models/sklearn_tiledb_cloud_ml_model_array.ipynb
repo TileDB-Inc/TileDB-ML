{
 "cells": [
  {
   "cell_type": "markdown",
   "metadata": {
    "pycharm": {
     "name": "#%% md\n"
    }
   },
   "source": [
    "In this notebook, we show how we can train a model with Scikit-learn and save it as a TileDB array on TileDB-Cloud.\n",
    "Firstly, let's import what we need."
   ]
  },
  {
   "cell_type": "code",
   "execution_count": 1,
   "metadata": {
    "pycharm": {
     "is_executing": true
    }
   },
   "outputs": [],
   "source": [
    "import os\n",
    "\n",
    "import numpy as np\n",
    "import tiledb.cloud\n",
    "from sklearn import preprocessing\n",
    "from sklearn.linear_model import LogisticRegression\n",
    "\n",
    "from tiledb.ml.models.sklearn import SklearnTileDBModel"
   ]
  },
  {
   "cell_type": "markdown",
   "metadata": {
    "pycharm": {
     "name": "#%% md\n"
    }
   },
   "source": [
    "We then create a TileDB-Cloud context, log in to TileDB via our API token (or username/password) and get our username."
   ]
  },
  {
   "cell_type": "code",
   "execution_count": 2,
   "metadata": {
    "pycharm": {
     "name": "#%%\n"
    }
   },
   "outputs": [],
   "source": [
    "ctx = tiledb.cloud.Ctx()\n",
    "tiledb.cloud.login(token=os.getenv('TILEDB_API_TOKEN'))\n",
    "namespace = tiledb.cloud.client.default_user().username"
   ]
  },
  {
   "cell_type": "markdown",
   "metadata": {
    "pycharm": {
     "name": "#%% md\n"
    }
   },
   "source": [
    "And move on with training a sklearn model with some random data."
   ]
  },
  {
   "cell_type": "code",
   "execution_count": 3,
   "metadata": {
    "pycharm": {
     "is_executing": true,
     "name": "#%%\n"
    }
   },
   "outputs": [
    {
     "name": "stdout",
     "output_type": "stream",
     "text": [
      "Model fit...\n",
      "Model score...\n",
      "Sparsity with L1 penalty: 0.00%\n",
      "Test score with L1 penalty: 0.1260\n"
     ]
    }
   ],
   "source": [
    "X_train = np.random.random((1000, 784))\n",
    "y_train = np.random.randint(9, size=1000)\n",
    "\n",
    "X_test = np.random.random((500, 784))\n",
    "y_test = np.random.randint(9, size=500)\n",
    "\n",
    "scaler = preprocessing.StandardScaler().fit(X_train)\n",
    "\n",
    "scaled_X_train = scaler.transform(X_train)\n",
    "scaled_X_test = scaler.transform(X_test)\n",
    "\n",
    "print(\"Model fit...\")\n",
    "model = LogisticRegression(random_state=0).fit(scaled_X_train, y_train)\n",
    "\n",
    "print(\"Model score...\")\n",
    "sparsity = np.mean(model.coef_ == 0) * 100\n",
    "score = model.score(scaled_X_test, y_test)\n",
    "\n",
    "print(\"Sparsity with L1 penalty: %.2f%%\" % sparsity)\n",
    "print(\"Test score with L1 penalty: %.4f\" % score)"
   ]
  },
  {
   "cell_type": "markdown",
   "metadata": {
    "pycharm": {
     "name": "#%% md\n"
    }
   },
   "source": [
    "We can move on by defining a TileDB Sklearn model and use model save functionality in order to save it directly to\n",
    "our bucket on S3 (defined with AWS credentials in your TileDB-Cloud account) and register it on TileDB-Cloud."
   ]
  },
  {
   "cell_type": "code",
   "execution_count": 4,
   "metadata": {
    "pycharm": {
     "name": "#%%\n"
    }
   },
   "outputs": [
    {
     "name": "stdout",
     "output_type": "stream",
     "text": [
      "Defining SklearnTileDBModel model...\n",
      "Saving model on S3 and registering on TileDB-Cloud...\n"
     ]
    }
   ],
   "source": [
    "print('Defining SklearnTileDBModel model...')\n",
    "# In order to save our model on S3 and register it on TileDB-Cloud we have to pass our Namespace and TileDB Context.\n",
    "tiledb_model = SklearnTileDBModel(uri='tiledb-sklearn-model', namespace=namespace, ctx=ctx, model=model)\n",
    "\n",
    "# We will need the uri that was created from our model class\n",
    "# (and follows pattern tiledb://my_username/s3://my_bucket/my_array),\n",
    "# in order to interact with our model on TileDB-Cloud.\n",
    "tiledb_cloud_model_uri = tiledb_model.uri\n",
    "\n",
    "print('Saving model on S3 and registering on TileDB-Cloud...')\n",
    "tiledb_model.save(meta={\"Sparsity_with_L1_penalty\": sparsity, \"score\": score})\n"
   ]
  },
  {
   "cell_type": "markdown",
   "metadata": {
    "pycharm": {
     "name": "#%% md\n"
    }
   },
   "source": [
    "Finally, we can use TileDB-Cloud API as described in our [cloud documentation](https://docs.tiledb.com/cloud/), in order\n",
    "to list our models, get information and deregister them."
   ]
  },
  {
   "cell_type": "code",
   "execution_count": 5,
   "metadata": {
    "pycharm": {
     "name": "#%%\n"
    }
   },
   "outputs": [
    {
     "name": "stdout",
     "output_type": "stream",
     "text": [
      "{'arrays': [{'access_credentials_name': 'gsk',\n",
      "             'allowed_actions': ['read_array_logs',\n",
      "                                 'read_array_info',\n",
      "                                 'read_array_schema',\n",
      "                                 'write',\n",
      "                                 'edit',\n",
      "                                 'read'],\n",
      "             'description': None,\n",
      "             'file_properties': None,\n",
      "             'file_type': 'ml_model',\n",
      "             'id': '3c6ecc49-56b4-4e7b-83a5-2de20a6e260b',\n",
      "             'is_favorite': None,\n",
      "             'last_accessed': datetime.datetime(2022, 8, 10, 18, 21, 39, tzinfo=tzutc()),\n",
      "             'license_id': None,\n",
      "             'license_text': None,\n",
      "             'logo': None,\n",
      "             'name': 'tiledb-sklearn-model',\n",
      "             'namespace': 'george.sakkis',\n",
      "             'namespace_subscribed': None,\n",
      "             'pricing': None,\n",
      "             'public_share': False,\n",
      "             'read_only': False,\n",
      "             'share_count': None,\n",
      "             'size': 280170.0,\n",
      "             'subscriptions': None,\n",
      "             'tags': None,\n",
      "             'tiledb_uri': 'tiledb://george.sakkis/tiledb-sklearn-model',\n",
      "             'type': 'dense',\n",
      "             'uri': 's3://tiledb-gsk/ml_models/tiledb-sklearn-model'},\n",
      "            {'access_credentials_name': 'gsk',\n",
      "             'allowed_actions': ['read',\n",
      "                                 'read_array_logs',\n",
      "                                 'read_array_info',\n",
      "                                 'read_array_schema',\n",
      "                                 'write',\n",
      "                                 'edit'],\n",
      "             'description': None,\n",
      "             'file_properties': None,\n",
      "             'file_type': 'ml_model',\n",
      "             'id': '686687e4-f21f-42b6-90fc-464acf221a06',\n",
      "             'is_favorite': None,\n",
      "             'last_accessed': datetime.datetime(2022, 8, 10, 18, 12, 35, tzinfo=tzutc()),\n",
      "             'license_id': None,\n",
      "             'license_text': None,\n",
      "             'logo': None,\n",
      "             'name': 'tiledb-pytorch-model',\n",
      "             'namespace': 'george.sakkis',\n",
      "             'namespace_subscribed': None,\n",
      "             'pricing': None,\n",
      "             'public_share': False,\n",
      "             'read_only': False,\n",
      "             'share_count': None,\n",
      "             'size': 846577.0,\n",
      "             'subscriptions': None,\n",
      "             'tags': None,\n",
      "             'tiledb_uri': 'tiledb://george.sakkis/tiledb-pytorch-model',\n",
      "             'type': 'dense',\n",
      "             'uri': 's3://tiledb-gsk/ml_models/tiledb-pytorch-model'}],\n",
      " 'pagination_metadata': {'page': None,\n",
      "                         'per_page': None,\n",
      "                         'total_items': None,\n",
      "                         'total_pages': None}}\n",
      "{'access_credentials_name': 'gsk',\n",
      " 'allowed_actions': ['edit',\n",
      "                     'read',\n",
      "                     'read_array_info',\n",
      "                     'read_array_logs',\n",
      "                     'read_array_schema',\n",
      "                     'write'],\n",
      " 'description': None,\n",
      " 'file_properties': {'TILEDB_ML_MODEL_ML_FRAMEWORK': 'SKLEARN',\n",
      "                     'TILEDB_ML_MODEL_ML_FRAMEWORK_VERSION': '1.0.2',\n",
      "                     'TILEDB_ML_MODEL_PREVIEW': 'LogisticRegression(random_state=0)',\n",
      "                     'TILEDB_ML_MODEL_PYTHON_VERSION': '3.7.13',\n",
      "                     'TILEDB_ML_MODEL_STAGE': 'STAGING'},\n",
      " 'file_type': 'ml_model',\n",
      " 'id': '3c6ecc49-56b4-4e7b-83a5-2de20a6e260b',\n",
      " 'is_favorite': None,\n",
      " 'last_accessed': datetime.datetime(2022, 8, 10, 18, 21, 39, tzinfo=tzutc()),\n",
      " 'license_id': None,\n",
      " 'license_text': None,\n",
      " 'logo': None,\n",
      " 'name': 'tiledb-sklearn-model',\n",
      " 'namespace': 'george.sakkis',\n",
      " 'namespace_subscribed': False,\n",
      " 'pricing': None,\n",
      " 'public_share': False,\n",
      " 'read_only': False,\n",
      " 'share_count': None,\n",
      " 'size': 280170.0,\n",
      " 'subscriptions': None,\n",
      " 'tags': None,\n",
      " 'tiledb_uri': 'tiledb://george.sakkis/tiledb-sklearn-model',\n",
      " 'type': 'dense',\n",
      " 'uri': 's3://tiledb-gsk/ml_models/tiledb-sklearn-model'}\n"
     ]
    }
   ],
   "source": [
    "# List all our models. All machine learning model TileDB arrays are of type 'ml_model'\n",
    "print(tiledb.cloud.client.list_arrays(file_type=['ml_model'], namespace=namespace))\n",
    "\n",
    "# Get model's info\n",
    "print(tiledb.cloud.array.info(tiledb_cloud_model_uri))\n",
    "\n",
    "# Load our model for inference\n",
    "loaded_tiledb_model = SklearnTileDBModel(uri=os.path.basename(tiledb_cloud_model_uri), namespace=namespace, ctx=ctx).load()\n",
    "\n",
    "assert score == loaded_tiledb_model.score(scaled_X_test, y_test)"
   ]
  },
  {
   "cell_type": "code",
   "execution_count": 6,
   "metadata": {},
   "outputs": [],
   "source": [
    "# Deregister model and physically delete the array from the S3 bucket\n",
    "tiledb.cloud.array.delete_array(tiledb_cloud_model_uri)"
   ]
  }
 ],
 "metadata": {
  "kernelspec": {
   "display_name": "Python 3 (ipykernel)",
   "language": "python",
   "name": "python3"
  },
  "language_info": {
   "codemirror_mode": {
    "name": "ipython",
    "version": 3
   },
   "file_extension": ".py",
   "mimetype": "text/x-python",
   "name": "python",
   "nbconvert_exporter": "python",
   "pygments_lexer": "ipython3",
   "version": "3.7.13"
  }
 },
 "nbformat": 4,
 "nbformat_minor": 4
}
