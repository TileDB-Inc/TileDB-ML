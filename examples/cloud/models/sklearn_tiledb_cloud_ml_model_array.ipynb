{
 "cells": [
  {
   "cell_type": "markdown",
   "metadata": {
    "pycharm": {
     "name": "#%% md\n"
    }
   },
   "source": [
    "In this notebook, we show how we can train a model with Scikit-learn and save it as a TileDB array on TileDB-Cloud.\n",
    "Firstly, let's import what we need."
   ]
  },
  {
   "cell_type": "code",
   "execution_count": null,
   "metadata": {},
   "outputs": [],
   "source": [
    "import numpy as np\n",
    "import tiledb.cloud\n",
    "import os\n",
    "\n",
    "from sklearn import preprocessing\n",
    "from sklearn.linear_model import LogisticRegression\n",
    "from tiledb.ml.models.sklearn import SklearnTileDBModel"
   ]
  },
  {
   "cell_type": "markdown",
   "metadata": {
    "pycharm": {
     "name": "#%% md\n"
    }
   },
   "source": [
    "We then have to export and load our TileDB-Cloud credentials. For TileDB cloud you can also use a token.\n",
    "You have to also set up your AWS credentials on your TileDB-Cloud account."
   ]
  },
  {
   "cell_type": "code",
   "execution_count": null,
   "metadata": {
    "pycharm": {
     "name": "#%%\n"
    }
   },
   "outputs": [],
   "source": [
    "# This is also our namespace on TileDB-Cloud.\n",
    "TILEDB_USER_NAME = os.environ.get('TILEDB_USER_NAME')\n",
    "TILEDB_PASSWD = os.environ.get('TILEDB_PASSWD')"
   ]
  },
  {
   "cell_type": "markdown",
   "metadata": {
    "pycharm": {
     "name": "#%% md\n"
    }
   },
   "source": [
    "We then create a TileDB-Cloud context and set up our communication with TileDB-Cloud."
   ]
  },
  {
   "cell_type": "code",
   "execution_count": null,
   "metadata": {
    "pycharm": {
     "is_executing": true,
     "name": "#%%\n"
    }
   },
   "outputs": [],
   "source": [
    "ctx = tiledb.cloud.Ctx()\n",
    "tiledb.cloud.login(username=TILEDB_USER_NAME, password=TILEDB_PASSWD)"
   ]
  },
  {
   "cell_type": "markdown",
   "metadata": {
    "pycharm": {
     "name": "#%% md\n"
    }
   },
   "source": [
    "And move on with training a sklearn model with some random data."
   ]
  },
  {
   "cell_type": "code",
   "execution_count": null,
   "metadata": {
    "pycharm": {
     "is_executing": true,
     "name": "#%%\n"
    }
   },
   "outputs": [],
   "source": [
    "X_train = np.random.random((1000, 784))\n",
    "y_train = np.random.randint(9, size=1000)\n",
    "\n",
    "X_test = np.random.random((500, 784))\n",
    "y_test = np.random.randint(9, size=500)\n",
    "\n",
    "scaler = preprocessing.StandardScaler().fit(X_train)\n",
    "\n",
    "scaled_X_train = scaler.transform(X_train)\n",
    "scaled_X_test = scaler.transform(X_test)\n",
    "\n",
    "print(\"Model fit...\")\n",
    "model = LogisticRegression(random_state=0).fit(scaled_X_train, y_train)\n",
    "\n",
    "print(\"Model score...\")\n",
    "sparsity = np.mean(model.coef_ == 0) * 100\n",
    "score = model.score(scaled_X_test, y_test)\n",
    "\n",
    "print(\"Sparsity with L1 penalty: %.2f%%\" % sparsity)\n",
    "print(\"Test score with L1 penalty: %.4f\" % score)"
   ]
  },
  {
   "cell_type": "markdown",
   "metadata": {
    "pycharm": {
     "name": "#%% md\n"
    }
   },
   "source": [
    "We can move on by defining a TileDB Sklearn model and use model save functionality in order to save it directly to\n",
    "our bucket on S3 (defined with AWS credentials in your TileDB-Cloud account) and register it on TileDB-Cloud."
   ]
  },
  {
   "cell_type": "code",
   "execution_count": null,
   "metadata": {
    "pycharm": {
     "name": "#%%\n"
    }
   },
   "outputs": [],
   "source": [
    "# Define array model uri.\n",
    "uri = \"tiledb-sklearn-model\"\n",
    "\n",
    "print('Defining SklearnTileDBModel model...')\n",
    "# In order to save our model on S3 and register it on TileDB-Cloud we have to pass our Namespace and TileDB Context.\n",
    "tiledb_model = SklearnTileDBModel(uri=uri, namespace=TILEDB_USER_NAME, ctx=ctx, model=model)\n",
    "\n",
    "print(tiledb_model.uri)\n",
    "\n",
    "# We will need the uri that was created from our model class\n",
    "# (and follows pattern tiledb://my_username/s3://my_bucket/my_array),\n",
    "# in order to interact with our model on TileDB-Cloud.\n",
    "tiledb_cloud_model_uri = tiledb_model.uri\n",
    "\n",
    "print('Saving model on S3 and registering on TileDB-Cloud...')\n",
    "tiledb_model.save(meta={\"Sparsity_with_L1_penalty\": sparsity, \"score\": score})\n"
   ]
  },
  {
   "cell_type": "markdown",
   "metadata": {
    "pycharm": {
     "name": "#%% md\n"
    }
   },
   "source": [
    "Finally, we can use TileDB-Cloud API as described in our [cloud documentation](https://docs.tiledb.com/cloud/), in order\n",
    "to list our models, get information and deregister them."
   ]
  },
  {
   "cell_type": "code",
   "execution_count": null,
   "metadata": {
    "pycharm": {
     "name": "#%%\n"
    }
   },
   "outputs": [],
   "source": [
    "# List all our models. Here, we filter with file_type = 'ml_model'. All machine learning model TileDB arrays are of type\n",
    "# 'ml_model'\n",
    "print(\n",
    "tiledb.cloud.client.list_arrays(\n",
    "    file_type=['ml_model'],\n",
    "    namespace=TILEDB_USER_NAME))\n",
    "\n",
    "# Get model's info\n",
    "print(tiledb.cloud.array.info(tiledb_cloud_model_uri))\n",
    "\n",
    "# Load our model for inference\n",
    "loaded_tiledb_model = SklearnTileDBModel(uri=tiledb_cloud_model_uri, ctx=ctx).load()\n",
    "\n",
    "print(score == loaded_tiledb_model.score(X_test, y_test))\n",
    "\n",
    "# Deregister model\n",
    "tiledb.cloud.deregister_array(tiledb_cloud_model_uri)"
   ]
  },
  {
   "cell_type": "code",
   "execution_count": null,
   "metadata": {},
   "outputs": [],
   "source": []
  }
 ],
 "metadata": {
  "kernelspec": {
   "display_name": "Python 3",
   "language": "python",
   "name": "python3"
  },
  "language_info": {
   "codemirror_mode": {
    "name": "ipython",
    "version": 3
   },
   "file_extension": ".py",
   "mimetype": "text/x-python",
   "name": "python",
   "nbconvert_exporter": "python",
   "pygments_lexer": "ipython3",
   "version": "3.7.8"
  }
 },
 "nbformat": 4,
 "nbformat_minor": 1
}