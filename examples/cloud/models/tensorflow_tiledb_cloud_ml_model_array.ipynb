{
 "cells": [
  {
   "cell_type": "markdown",
   "metadata": {},
   "source": [
    "In this notebook, we show how we can train a model with Tensorflow and save it as a TileDB array on TileDB-Cloud.\n",
    "Firstly, let's import what we need."
   ]
  },
  {
   "cell_type": "code",
   "execution_count": 1,
   "metadata": {
    "pycharm": {
     "name": "#%%\n"
    }
   },
   "outputs": [],
   "source": [
    "import os\n",
    "\n",
    "import numpy as np\n",
    "import tensorflow as tf\n",
    "import tiledb.cloud\n",
    "\n",
    "from tiledb.ml.models.tensorflow_keras import TensorflowKerasTileDBModel"
   ]
  },
  {
   "cell_type": "markdown",
   "metadata": {},
   "source": [
    "We then create a TileDB-Cloud context, log in to TileDB via our API token (or username/password) and get our username."
   ]
  },
  {
   "cell_type": "code",
   "execution_count": 2,
   "metadata": {
    "pycharm": {
     "name": "#%%\n"
    }
   },
   "outputs": [],
   "source": [
    "ctx = tiledb.cloud.Ctx()\n",
    "tiledb.cloud.login(token=os.getenv('TILEDB_API_TOKEN'))\n",
    "namespace = tiledb.cloud.client.default_user().username"
   ]
  },
  {
   "cell_type": "markdown",
   "metadata": {},
   "source": [
    "And move on with training a Tensorflow model with some random data."
   ]
  },
  {
   "cell_type": "code",
   "execution_count": 3,
   "metadata": {
    "pycharm": {
     "name": "#%%\n"
    }
   },
   "outputs": [
    {
     "name": "stdout",
     "output_type": "stream",
     "text": [
      "Model fit...\n",
      "Epoch 1/2\n"
     ]
    },
    {
     "name": "stderr",
     "output_type": "stream",
     "text": [
      "2022-08-10 21:30:54.521562: I tensorflow/core/platform/cpu_feature_guard.cc:151] This TensorFlow binary is optimized with oneAPI Deep Neural Network Library (oneDNN) to use the following CPU instructions in performance-critical operations:  SSE4.1 SSE4.2 AVX AVX2 AVX512F FMA\n",
      "To enable them in other operations, rebuild TensorFlow with the appropriate compiler flags.\n"
     ]
    },
    {
     "name": "stdout",
     "output_type": "stream",
     "text": [
      "32/32 [==============================] - 0s 1ms/step - loss: 2.3447 - accuracy: 0.1100\n",
      "Epoch 2/2\n",
      "32/32 [==============================] - 0s 1ms/step - loss: 2.2094 - accuracy: 0.1440\n"
     ]
    },
    {
     "data": {
      "text/plain": [
       "<keras.callbacks.History at 0x7fb992cd2f50>"
      ]
     },
     "execution_count": 3,
     "metadata": {},
     "output_type": "execute_result"
    }
   ],
   "source": [
    "X_train = np.random.random((1000, 784))\n",
    "y_train = np.random.randint(9, size=1000)\n",
    "\n",
    "X_test = np.random.random((500, 784))\n",
    "y_test = np.random.randint(9, size=500)\n",
    "\n",
    "# Create a model\n",
    "model = tf.keras.models.Sequential([\n",
    "        tf.keras.layers.Flatten(input_shape=(784,)),\n",
    "        tf.keras.layers.Dense(128, activation='relu'),\n",
    "        tf.keras.layers.Dropout(0.2),\n",
    "        tf.keras.layers.Dense(10)\n",
    "    ])\n",
    "\n",
    "loss_fn = tf.keras.losses.SparseCategoricalCrossentropy(from_logits=True)\n",
    "\n",
    "model.compile(optimizer='adam',\n",
    "              loss=loss_fn,\n",
    "              metrics=['accuracy'])\n",
    "\n",
    "\n",
    "print(\"Model fit...\")\n",
    "model.fit(X_train, y_train, epochs=2)"
   ]
  },
  {
   "cell_type": "markdown",
   "metadata": {},
   "source": [
    "We can move on by defining a TileDBTensorflow model and use model save functionality in order to save it directly to\n",
    "our bucket on S3 (defined with AWS credentials in your TileDB-Cloud account) and register it on TileDB-Cloud."
   ]
  },
  {
   "cell_type": "code",
   "execution_count": 4,
   "metadata": {
    "pycharm": {
     "name": "#%%\n"
    }
   },
   "outputs": [
    {
     "name": "stdout",
     "output_type": "stream",
     "text": [
      "Defining TensorflowKerasTileDBModel model...\n",
      "Saving model on S3 and registering on TileDB-Cloud...\n"
     ]
    }
   ],
   "source": [
    "print('Defining TensorflowKerasTileDBModel model...')\n",
    "# In order to save our model on S3 and register it on TileDB-Cloud we have to pass our Namespace and TileDB Context.\n",
    "tiledb_model = TensorflowKerasTileDBModel(uri='tiledb-tensorflow-model', namespace=namespace, ctx=ctx, model=model)\n",
    "\n",
    "# We will need the uri that was created from our model class\n",
    "# (and follows pattern tiledb://my_username/s3://my_bucket/my_array),\n",
    "# in order to interact with our model on TileDB-Cloud.\n",
    "tiledb_cloud_model_uri = tiledb_model.uri\n",
    "\n",
    "print('Saving model on S3 and registering on TileDB-Cloud...')\n",
    "tiledb_model.save()"
   ]
  },
  {
   "cell_type": "markdown",
   "metadata": {},
   "source": [
    "Finally, we can use TileDB-Cloud API as described in our [cloud documentation](https://docs.tiledb.com/cloud/), in order\n",
    "to list our models, get information and deregister them."
   ]
  },
  {
   "cell_type": "code",
   "execution_count": 5,
   "metadata": {
    "pycharm": {
     "name": "#%%\n"
    }
   },
   "outputs": [
    {
     "name": "stdout",
     "output_type": "stream",
     "text": [
      "{'arrays': [{'access_credentials_name': 'gsk',\n",
      "             'allowed_actions': ['read',\n",
      "                                 'read_array_logs',\n",
      "                                 'read_array_info',\n",
      "                                 'read_array_schema',\n",
      "                                 'write',\n",
      "                                 'edit'],\n",
      "             'description': None,\n",
      "             'file_properties': None,\n",
      "             'file_type': 'ml_model',\n",
      "             'id': 'e5c3483e-215b-44da-af28-b1e385f0cc63',\n",
      "             'is_favorite': None,\n",
      "             'last_accessed': datetime.datetime(2022, 8, 10, 18, 31, 18, tzinfo=tzutc()),\n",
      "             'license_id': None,\n",
      "             'license_text': None,\n",
      "             'logo': None,\n",
      "             'name': 'tiledb-tensorflow-model',\n",
      "             'namespace': 'george.sakkis',\n",
      "             'namespace_subscribed': None,\n",
      "             'pricing': None,\n",
      "             'public_share': False,\n",
      "             'read_only': False,\n",
      "             'share_count': None,\n",
      "             'size': 1915939.0,\n",
      "             'subscriptions': None,\n",
      "             'tags': None,\n",
      "             'tiledb_uri': 'tiledb://george.sakkis/tiledb-tensorflow-model',\n",
      "             'type': 'dense',\n",
      "             'uri': 's3://tiledb-gsk/ml_models/tiledb-tensorflow-model'}],\n",
      " 'pagination_metadata': {'page': None,\n",
      "                         'per_page': None,\n",
      "                         'total_items': None,\n",
      "                         'total_pages': None}}\n",
      "{'access_credentials_name': 'gsk',\n",
      " 'allowed_actions': ['edit',\n",
      "                     'read',\n",
      "                     'read_array_info',\n",
      "                     'read_array_logs',\n",
      "                     'read_array_schema',\n",
      "                     'write'],\n",
      " 'description': None,\n",
      " 'file_properties': {'TILEDB_ML_MODEL_ML_FRAMEWORK': 'TENSORFLOW KERAS',\n",
      "                     'TILEDB_ML_MODEL_ML_FRAMEWORK_VERSION': '2.8.1',\n",
      "                     'TILEDB_ML_MODEL_PREVIEW': 'Model: \"sequential\"\\n'\n",
      "                                                '_________________________________________________________________\\n'\n",
      "                                                ' Layer (type)                '\n",
      "                                                'Output Shape              '\n",
      "                                                'Param #   \\n'\n",
      "                                                '=================================================================\\n'\n",
      "                                                ' flatten (Flatten)           '\n",
      "                                                '(None, 784)               '\n",
      "                                                '0         \\n'\n",
      "                                                '                                                                 \\n'\n",
      "                                                ' dense (Dense)               '\n",
      "                                                '(None, 128)               '\n",
      "                                                '100480    \\n'\n",
      "                                                '                                                                 \\n'\n",
      "                                                ' dropout (Dropout)           '\n",
      "                                                '(None, 128)               '\n",
      "                                                '0         \\n'\n",
      "                                                '                                                                 \\n'\n",
      "                                                ' dense_1 (Dense)             '\n",
      "                                                '(None, 10)                '\n",
      "                                                '1290      \\n'\n",
      "                                                '                                                                 \\n'\n",
      "                                                '=================================================================\\n'\n",
      "                                                'Total params: 101,770\\n'\n",
      "                                                'Trainable params: 101,770\\n'\n",
      "                                                'Non-trainable params: 0\\n'\n",
      "                                                '_________________________________________________________________\\n',\n",
      "                     'TILEDB_ML_MODEL_PYTHON_VERSION': '3.7.13',\n",
      "                     'TILEDB_ML_MODEL_STAGE': 'STAGING'},\n",
      " 'file_type': 'ml_model',\n",
      " 'id': 'e5c3483e-215b-44da-af28-b1e385f0cc63',\n",
      " 'is_favorite': None,\n",
      " 'last_accessed': datetime.datetime(2022, 8, 10, 18, 31, 18, tzinfo=tzutc()),\n",
      " 'license_id': None,\n",
      " 'license_text': None,\n",
      " 'logo': None,\n",
      " 'name': 'tiledb-tensorflow-model',\n",
      " 'namespace': 'george.sakkis',\n",
      " 'namespace_subscribed': False,\n",
      " 'pricing': None,\n",
      " 'public_share': False,\n",
      " 'read_only': False,\n",
      " 'share_count': None,\n",
      " 'size': 1915939.0,\n",
      " 'subscriptions': None,\n",
      " 'tags': None,\n",
      " 'tiledb_uri': 'tiledb://george.sakkis/tiledb-tensorflow-model',\n",
      " 'type': 'dense',\n",
      " 'uri': 's3://tiledb-gsk/ml_models/tiledb-tensorflow-model'}\n"
     ]
    }
   ],
   "source": [
    "# List all our models. All machine learning model TileDB arrays are of type 'ml_model'\n",
    "print(tiledb.cloud.client.list_arrays(file_type=['ml_model'], namespace=namespace))\n",
    "\n",
    "# Get model's info\n",
    "print(tiledb.cloud.array.info(tiledb_cloud_model_uri))\n",
    "\n",
    "# Load our model for inference\n",
    "loaded_model = TensorflowKerasTileDBModel(uri=os.path.basename(tiledb_cloud_model_uri), namespace=namespace, ctx=ctx).load()\n",
    "\n",
    "np.testing.assert_array_equal(model.predict(X_test), loaded_model.predict(X_test))"
   ]
  },
  {
   "cell_type": "code",
   "execution_count": 6,
   "metadata": {},
   "outputs": [],
   "source": [
    "# Deregister model and physically delete the array from the S3 bucket\n",
    "tiledb.cloud.array.delete_array(tiledb_cloud_model_uri)"
   ]
  }
 ],
 "metadata": {
  "kernelspec": {
   "display_name": "Python 3 (ipykernel)",
   "language": "python",
   "name": "python3"
  },
  "language_info": {
   "codemirror_mode": {
    "name": "ipython",
    "version": 3
   },
   "file_extension": ".py",
   "mimetype": "text/x-python",
   "name": "python",
   "nbconvert_exporter": "python",
   "pygments_lexer": "ipython3",
   "version": "3.7.13"
  }
 },
 "nbformat": 4,
 "nbformat_minor": 4
}