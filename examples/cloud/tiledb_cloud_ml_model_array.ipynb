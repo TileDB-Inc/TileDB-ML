{
 "cells": [
  {
   "cell_type": "markdown",
   "metadata": {
    "pycharm": {
     "name": "#%% md\n"
    }
   },
   "source": [
    "In this notebook, we show how we can train a model with Scikit-learn and save it as a TileDB array on TileDB-Cloud.\n",
    "Firstly, let's import what we need."
   ]
  },
  {
   "cell_type": "code",
   "execution_count": null,
   "metadata": {},
   "outputs": [],
   "source": [
    "import numpy as np\n",
    "import tiledb\n",
    "import os\n",
    "\n",
    "from sklearn.linear_model import LogisticRegression\n",
    "from tiledb.ml.models.sklearn import SklearnTileDB"
   ]
  },
  {
   "cell_type": "markdown",
   "metadata": {
    "pycharm": {
     "name": "#%% md\n"
    }
   },
   "source": [
    "We then have to export and load our TileDB-Cloud credentials. For TileDB cloud you can also use a token.\n",
    "You have to also set up your AWS credentials on your TileDB-Cloud account."
   ]
  },
  {
   "cell_type": "code",
   "execution_count": null,
   "metadata": {
    "pycharm": {
     "name": "#%%\n"
    }
   },
   "outputs": [],
   "source": [
    "# This is also our namespace on TileDB-Cloud.\n",
    "TILEDB_USER_NAME = os.environ.get('TILEDB_USER_NAME')\n",
    "TILEDB_PASSWD = os.environ.get('TILEDB_PASSWD')"
   ]
  },
  {
   "cell_type": "markdown",
   "metadata": {
    "pycharm": {
     "name": "#%% md\n"
    }
   },
   "source": [
    "We then create a TileDB-Cloud context and set up our communication with TileDB-Cloud."
   ]
  },
  {
   "cell_type": "code",
   "execution_count": null,
   "metadata": {
    "pycharm": {
     "is_executing": true,
     "name": "#%%\n"
    }
   },
   "outputs": [],
   "source": [
    "ctx = tiledb.cloud.Ctx()\n",
    "tiledb.cloud.login(username=TILEDB_USER_NAME, password=TILEDB_PASSWD)"
   ]
  },
  {
   "cell_type": "markdown",
   "metadata": {
    "pycharm": {
     "name": "#%% md\n"
    }
   },
   "source": [
    "And move on with training a sklearn model with some random data."
   ]
  },
  {
   "cell_type": "code",
   "execution_count": null,
   "metadata": {
    "pycharm": {
     "is_executing": true,
     "name": "#%%\n"
    }
   },
   "outputs": [],
   "source": [
    "X_train = np.random.random((1000, 784))\n",
    "y_train = np.random.randint(9, size=1000)\n",
    "\n",
    "X_test = np.random.random((500, 784))\n",
    "y_test = np.random.randint(9, size=500)\n",
    "\n",
    "print(\"Model fit...\")\n",
    "clf = LogisticRegression(random_state=0).fit(X_train, y_train)\n",
    "\n",
    "print(\"Model score...\")\n",
    "sparsity = np.mean(clf.coef_ == 0) * 100\n",
    "score = clf.score(X_test, y_test)\n",
    "\n",
    "print(\"Sparsity with L1 penalty: %.2f%%\" % sparsity)\n",
    "print(\"Test score with L1 penalty: %.4f\" % score)"
   ]
  },
  {
   "cell_type": "markdown",
   "metadata": {
    "collapsed": false,
    "pycharm": {
     "name": "#%% md\n"
    }
   },
   "source": [
    "We can move on by defining a TileDB Sklearn model and use model save functionality in order to save it directly to\n",
    "our bucket on S3 (defined with AWS credentials in your TileDB-Cloud account) and register it on TileDB-Cloud."
   ]
  },
  {
   "cell_type": "code",
   "execution_count": null,
   "metadata": {
    "pycharm": {
     "name": "#%%\n"
    }
   },
   "outputs": [],
   "source": [
    "# Define array model uri.\n",
    "uri = \"tiledb-sklearn-model\"\n",
    "\n",
    "print('Defining SklearnTileDB model...')\n",
    "# In order to save our model on S3 and register it on TileDB-Cloud we have to pass our Namespace and TileDB Context.\n",
    "tiledb_model = SklearnTileDB(uri=uri, namespace=TILEDB_USER_NAME, ctx=ctx)\n",
    "\n",
    "print(tiledb_model.uri)\n",
    "\n",
    "# We will need the uri that was created from our model class\n",
    "# (and follows pattern tiledb://my_username/s3://my_bucket/my_array),\n",
    "# in order to interact with our model on TileDB-Cloud.\n",
    "tiledb_cloud_model_uri = tiledb_model.uri\n",
    "\n",
    "print('Saving model on TileDB-Cloud')\n",
    "tiledb_model.save(\n",
    "    model=clf, meta={\"Sparsity_with_L1_penalty\": sparsity, \"score\": score}\n",
    ")\n"
   ]
  },
  {
   "cell_type": "markdown",
   "metadata": {
    "collapsed": false,
    "pycharm": {
     "name": "#%% md\n"
    }
   },
   "source": [
    "Finally, we can use TileDB-Cloud API as described in our [cloud documentation](https://docs.tiledb.com/cloud/), in order\n",
    "to list our models, get information and deregister them."
   ]
  },
  {
   "cell_type": "code",
   "execution_count": null,
   "metadata": {
    "pycharm": {
     "name": "#%%\n"
    }
   },
   "outputs": [],
   "source": [
    "# List all our models. Here, we filter with file_type = 'ml_model'. All machine learning model TileDB arrays are of type\n",
    "# 'ml_model'\n",
    "print(\n",
    "tiledb.cloud.client.list_arrays(\n",
    "    file_type=['ml_model'],\n",
    "    namespace=TILEDB_USER_NAME))\n",
    "\n",
    "# Get model's info\n",
    "print(tiledb.cloud.array.info(tiledb_cloud_model_uri))\n",
    "\n",
    "# Load our model for inference\n",
    "loaded_tiledb_model = SklearnTileDB(uri=tiledb_cloud_model_uri, ctx=ctx).load()\n",
    "\n",
    "print(score == loaded_tiledb_model.score(X_test, y_test))\n",
    "\n",
    "# Deregister model\n",
    "tiledb.cloud.deregister_array(tiledb_cloud_model_uri)"
   ]
  }
 ],
 "metadata": {
  "kernelspec": {
   "display_name": "Python 3",
   "language": "python",
   "name": "python3"
  },
  "language_info": {
   "codemirror_mode": {
    "name": "ipython",
    "version": 3
   },
   "file_extension": ".py",
   "mimetype": "text/x-python",
   "name": "python",
   "nbconvert_exporter": "python",
   "pygments_lexer": "ipython3",
   "version": "3.7.8"
  }
 },
 "nbformat": 4,
 "nbformat_minor": 1
}